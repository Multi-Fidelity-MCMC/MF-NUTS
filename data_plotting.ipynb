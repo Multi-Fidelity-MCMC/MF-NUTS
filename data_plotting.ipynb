{
 "cells": [
  {
   "cell_type": "code",
   "execution_count": null,
   "metadata": {},
   "outputs": [],
   "source": [
    "import wave_specs\n",
    "\n",
    "# Load in global inverse wave problem specifications from the specified file\n",
    "specs_filename = \"wave_specs.npy\"\n",
    "wave_specs.init(specs_filename)\n",
    "\n",
    "import data_plotting_functions"
   ]
  },
  {
   "cell_type": "code",
   "execution_count": null,
   "metadata": {},
   "outputs": [],
   "source": [
    "BW_ADJUST = 1\n",
    "N_SIR_STAGES = 3\n",
    "SAMPLES_PER_SIR_STAGE = 5000\n",
    "LOG_PROB_THRESHOLD = -40\n",
    "\n",
    "# A primary sampling data file\n",
    "INPUT_FILE = \"data/rw_data/mf_rw_5chains100k_burnin5k_detransformed.npy\"\n",
    "\n",
    "# An SIR sampling data file\n",
    "SIR_FILE = \"data/resampling_data/mf_rw_5chains_sir_3resamples_5000points_detransformed.npy\"\n",
    "\n",
    "# A file in which some chains are stuck in regions of extremely low probability\n",
    "BADSTART_FILE = \"data/mf_rw_badstart_5chains50k_burnin5k_detransformed.npy\""
   ]
  },
  {
   "cell_type": "markdown",
   "metadata": {},
   "source": [
    "# Plot Data From INPUT_FILE"
   ]
  },
  {
   "cell_type": "code",
   "execution_count": null,
   "metadata": {},
   "outputs": [],
   "source": [
    "data_plotting_functions.print_stats(INPUT_FILE)"
   ]
  },
  {
   "cell_type": "code",
   "execution_count": null,
   "metadata": {},
   "outputs": [],
   "source": [
    "save_filename = None\n",
    "\n",
    "data_plotting_functions.plot_posterior_predictives(INPUT_FILE, save_filename, bw_adjust=BW_ADJUST)"
   ]
  },
  {
   "cell_type": "code",
   "execution_count": null,
   "metadata": {},
   "outputs": [],
   "source": [
    "save_filename = None\n",
    "\n",
    "data_plotting_functions.plot_posteriors(INPUT_FILE, save_filename, bw_adjust=BW_ADJUST)"
   ]
  },
  {
   "cell_type": "code",
   "execution_count": null,
   "metadata": {},
   "outputs": [],
   "source": [
    "save_filename = None\n",
    "\n",
    "data_plotting_functions.plot_posterior_trace_together(INPUT_FILE, save_filename, bw_adjust=BW_ADJUST)"
   ]
  },
  {
   "cell_type": "code",
   "execution_count": null,
   "metadata": {},
   "outputs": [],
   "source": [
    "save_filename = None \n",
    "parameter_index = 5   # Index for coeff_2\n",
    "\n",
    "data_plotting_functions.plot_single_posterior(INPUT_FILE, parameter_index, save_filename, plot_traces=True)"
   ]
  },
  {
   "cell_type": "code",
   "execution_count": null,
   "metadata": {},
   "outputs": [],
   "source": [
    "save_filename = None\n",
    "observation_index = 3\n",
    "\n",
    "data_plotting_functions.plot_single_posterior_predictive(INPUT_FILE, observation_index, save_filename)"
   ]
  },
  {
   "cell_type": "code",
   "execution_count": null,
   "metadata": {},
   "outputs": [],
   "source": [
    "save_filename = None\n",
    "\n",
    "data_plotting_functions.plot_parameter_heatmap(INPUT_FILE, save_filename, plot_diag_posts=False)"
   ]
  },
  {
   "cell_type": "code",
   "execution_count": null,
   "metadata": {},
   "outputs": [],
   "source": [
    "save_filename = None\n",
    "\n",
    "data_plotting_functions.plot_acceptance_history(INPUT_FILE, save_filename)"
   ]
  },
  {
   "cell_type": "markdown",
   "metadata": {},
   "source": [
    "# Plot Data From SIR_FILE"
   ]
  },
  {
   "cell_type": "code",
   "execution_count": null,
   "metadata": {},
   "outputs": [],
   "source": [
    "save_filename = None\n",
    "\n",
    "data_plotting_functions.plot_sequential_resampling(SIR_FILE, save_filename, N_SIR_STAGES, SAMPLES_PER_SIR_STAGE)"
   ]
  },
  {
   "cell_type": "markdown",
   "metadata": {},
   "source": [
    "# Plot Data From BADSTART_FILE"
   ]
  },
  {
   "cell_type": "code",
   "execution_count": null,
   "metadata": {},
   "outputs": [],
   "source": [
    "# Two good samples to start sampling from to hopefully see anomaly:\n",
    "sample1 = [-2.65049767, -2.24778314, -13.80596471, 14.81024792, 0.25501486, 0.38512983, 0.73673017]\n",
    "sample2 = [-1.88341097, -0.61456113, -12.81232351, 14.82463598, 2.67573937, 2.58070324, 0.86972125]"
   ]
  },
  {
   "cell_type": "code",
   "execution_count": null,
   "metadata": {},
   "outputs": [],
   "source": [
    "save_filename = None\n",
    "\n",
    "data_plotting_functions.plot_log_probs(BADSTART_FILE, save_filename, report_stats=LOG_PROB_THRESHOLD)"
   ]
  },
  {
   "cell_type": "code",
   "execution_count": null,
   "metadata": {},
   "outputs": [],
   "source": [
    "save_filename = None\n",
    "\n",
    "data_plotting_functions.plot_posterior_model_comparison(BADSTART_FILE, save_filename, bw_adjust=BW_ADJUST)"
   ]
  },
  {
   "cell_type": "code",
   "execution_count": null,
   "metadata": {},
   "outputs": [],
   "source": [
    "save_filename = None\n",
    "\n",
    "data_plotting_functions.plot_posterior_predictive_model_comparison(BADSTART_FILE, save_filename, bw_adjust=BW_ADJUST)"
   ]
  },
  {
   "cell_type": "code",
   "execution_count": null,
   "metadata": {},
   "outputs": [],
   "source": [
    "save_filename = None\n",
    "\n",
    "data_plotting_functions.plot_posterior_log_prob_comparison(BADSTART_FILE, LOG_PROB_THRESHOLD, save_filename, bw_adjust=BW_ADJUST)"
   ]
  },
  {
   "cell_type": "code",
   "execution_count": null,
   "metadata": {},
   "outputs": [],
   "source": [
    "save_filename = None\n",
    "\n",
    "data_plotting_functions.plot_posterior_predictive_log_prob_comparison(BADSTART_FILE, LOG_PROB_THRESHOLD, save_filename, bw_adjust=BW_ADJUST)"
   ]
  },
  {
   "cell_type": "code",
   "execution_count": null,
   "metadata": {},
   "outputs": [],
   "source": [
    "save_filename = None\n",
    "\n",
    "data_plotting_functions.plot_low_fidelity_chain_comparison(BADSTART_FILE, save_filename, good_chains=[1, 4, 5], bad_chains=[2, 3], bw_adjust=BW_ADJUST)"
   ]
  },
  {
   "cell_type": "code",
   "execution_count": null,
   "metadata": {},
   "outputs": [],
   "source": []
  }
 ],
 "metadata": {
  "kernelspec": {
   "display_name": ".venv",
   "language": "python",
   "name": "python3"
  },
  "language_info": {
   "codemirror_mode": {
    "name": "ipython",
    "version": 3
   },
   "file_extension": ".py",
   "mimetype": "text/x-python",
   "name": "python",
   "nbconvert_exporter": "python",
   "pygments_lexer": "ipython3",
   "version": "3.10.12"
  }
 },
 "nbformat": 4,
 "nbformat_minor": 2
}
